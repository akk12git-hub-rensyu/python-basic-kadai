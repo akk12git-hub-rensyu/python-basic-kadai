{
  "cells": [
    {
      "cell_type": "markdown",
      "metadata": {
        "id": "pqhys4dlFpB0"
      },
      "source": []
    },
    {
      "cell_type": "code",
      "execution_count": 78,
      "metadata": {
        "colab": {
          "base_uri": "https://localhost:8080/"
        },
        "id": "Ddk6zvt2Elw0",
        "outputId": "1918c72d-28c6-4f29-e8db-b558e36d7a79"
      },
      "outputs": [
        {
          "name": "stdout",
          "output_type": "stream",
          "text": [
            "侍太郎は未成年です。\n",
            "侍二郎は未成年です。\n",
            "侍三郎は大人です。\n",
            "侍四郎は大人です。\n",
            "侍花子は大人です。\n"
          ]
        }
      ],
      "source": [
        "class Human:\n",
        "  def __init__(self, name, age):\n",
        "    self.name = name\n",
        "    self.age = age\n",
        "\n",
        "  def check_adult(self):\n",
        "    if self.age >= 20:\n",
        "      print(f\"{self.name}は大人です。\")\n",
        "    else:\n",
        "      print(f\"{self.name}は未成年です。\")\n",
        "\n",
        "human1 = Human(\"侍太郎\", 18)\n",
        "human2 = Human(\"侍二郎\", 19)\n",
        "human3 = Human(\"侍三郎\", 20)\n",
        "human4 = Human(\"侍四郎\", 22)\n",
        "human5 = Human(\"侍花子\", 30)\n",
        "\n",
        "\n",
        "human = [human1, human2, human3, human4, human5]\n",
        "for element in human:\n",
        "  element.check_adult()\n"
      ]
    }
  ],
  "metadata": {
    "colab": {
      "provenance": []
    },
    "kernelspec": {
      "display_name": "Python 3",
      "name": "python3"
    },
    "language_info": {
      "name": "python"
    }
  },
  "nbformat": 4,
  "nbformat_minor": 0
}
