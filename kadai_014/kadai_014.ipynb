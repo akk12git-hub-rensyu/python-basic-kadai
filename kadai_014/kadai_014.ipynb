{
  "cells": [
    {
      "cell_type": "code",
      "execution_count": 26,
      "metadata": {
        "colab": {
          "base_uri": "https://localhost:8080/"
        },
        "id": "_rByvs7mP5_V",
        "outputId": "50b046c7-305a-4aa2-9913-ebd1e6fa6cf1"
      },
      "outputs": [
        {
          "name": "stdout",
          "output_type": "stream",
          "text": [
            "330.0\n"
          ]
        }
      ],
      "source": [
        "price1 = 100\n",
        "price2 = 200\n",
        "tax = 1.1\n",
        "\n",
        "def total():\n",
        "  tax = 1.1\n",
        "  return price1 + price2\n",
        "\n",
        "print(total() * tax)"
      ]
    },
    {
      "cell_type": "markdown",
      "metadata": {
        "id": "pqhys4dlFpB0"
      },
      "source": []
    }
  ],
  "metadata": {
    "colab": {
      "provenance": []
    },
    "kernelspec": {
      "display_name": "Python 3",
      "name": "python3"
    },
    "language_info": {
      "name": "python"
    }
  },
  "nbformat": 4,
  "nbformat_minor": 0
}
