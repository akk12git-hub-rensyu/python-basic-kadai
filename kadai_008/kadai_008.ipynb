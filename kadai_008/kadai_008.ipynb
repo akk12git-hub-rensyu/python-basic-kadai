{
  "cells": [
    {
      "cell_type": "code",
      "execution_count": 81,
      "metadata": {
        "colab": {
          "base_uri": "https://localhost:8080/"
        },
        "id": "RiWTWlXDUOzv",
        "outputId": "01a6ee89-3035-4549-9532-ff8813f1ece5"
      },
      "outputs": [
        {
          "name": "stdout",
          "output_type": "stream",
          "text": [
            "290\n",
            "Buzz\n"
          ]
        }
      ],
      "source": [
        "import random\n",
        "#変数varを0<1000でランダム表示\n",
        "var = random.randint(0,1000)\n",
        "\n",
        "#変数varが3の倍数の場合は「Fizz」を出力させる\n",
        "if var %3 == 0:\n",
        "    print(var)\n",
        "    print(\"Fizz\")\n",
        "\n",
        "#変数varが5の倍数の場合は「Buzz」を出力させる\n",
        "elif var %5 == 0:\n",
        "    print(var)\n",
        "    print(\"Buzz\")\n",
        "\n",
        "#変数varが5の倍数の場合は「FizzBuzz」を出力させる\n",
        "elif var %15 == 0:\n",
        "    print(var)\n",
        "    print(\"FizzBuzz\")\n",
        "\n",
        "#上記どれにも該当しない場合は、変数varの値を出力\n",
        "else:\n",
        "    print(var)"
      ]
    }
  ],
  "metadata": {
    "colab": {
      "provenance": []
    },
    "kernelspec": {
      "display_name": "Python 3",
      "name": "python3"
    },
    "language_info": {
      "name": "python"
    }
  },
  "nbformat": 4,
  "nbformat_minor": 0
}
