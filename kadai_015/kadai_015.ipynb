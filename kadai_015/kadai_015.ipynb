{
  "cells": [
    {
      "cell_type": "code",
      "execution_count": 51,
      "metadata": {
        "colab": {
          "base_uri": "https://localhost:8080/"
        },
        "id": "WvSzGtvAs9ti",
        "outputId": "f448f0ec-8574-47c1-b541-3572eb2bf891"
      },
      "outputs": [
        {
          "name": "stdout",
          "output_type": "stream",
          "text": [
            "侍太郎 41\n"
          ]
        }
      ],
      "source": [
        "class Human:\n",
        "  def __init__(self, name, age):\n",
        "    self.name = name\n",
        "    self.age = age\n",
        "\n",
        "  def printinfo(self):\n",
        "    print(self.name, self.age)\n",
        "\n",
        "human = Human(\"侍太郎\", \"41\")\n",
        "\n",
        "human.printinfo()"
      ]
    },
    {
      "cell_type": "markdown",
      "metadata": {
        "id": "pqhys4dlFpB0"
      },
      "source": []
    }
  ],
  "metadata": {
    "colab": {
      "provenance": []
    },
    "kernelspec": {
      "display_name": "Python 3",
      "name": "python3"
    },
    "language_info": {
      "name": "python"
    }
  },
  "nbformat": 4,
  "nbformat_minor": 0
}
