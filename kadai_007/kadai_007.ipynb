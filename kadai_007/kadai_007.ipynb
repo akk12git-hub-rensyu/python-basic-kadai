{
  "cells": [
    {
      "cell_type": "code",
      "execution_count": 28,
      "metadata": {
        "colab": {
          "base_uri": "https://localhost:8080/"
        },
        "id": "DKxP-GizGRPq",
        "outputId": "cda8eeb7-d8c6-4ba4-fdc7-b8379ef2123d"
      },
      "outputs": [
        {
          "name": "stdout",
          "output_type": "stream",
          "text": [
            "水曜日は晴れです\n",
            "晴れ\n"
          ]
        }
      ],
      "source": [
        "#arrayというリストを作成し、水曜日の天気予報を出力\n",
        "array = [\"月曜日は晴れです\", \"火曜日は雨です\", \"水曜日は晴れです\", \"木曜日は晴れです\", \"金曜日は曇りです\", \"土曜日は曇りのち雨です\", \"日曜日は雷雨です\"]\n",
        "print(array[2])\n",
        "\n",
        "#dictionaryというディクショナリを作成し水曜日の天気予報を出力\n",
        "dictionary = {\"mon\": \"晴れ\", \"tue\": \"雨\", \"wed\": \"晴れ\", \"thu\": \"晴れ\", \"fri\": \"曇り\", \"sat\": \"曇りのち雨\", \"sun\": \"雷雨\"}\n",
        "print(dictionary[\"wed\"])"
      ]
    },
    {
      "cell_type": "code",
      "execution_count": null,
      "metadata": {
        "id": "Dc4HuG13McxC"
      },
      "outputs": [],
      "source": []
    }
  ],
  "metadata": {
    "colab": {
      "provenance": []
    },
    "kernelspec": {
      "display_name": "Python 3",
      "name": "python3"
    },
    "language_info": {
      "name": "python"
    }
  },
  "nbformat": 4,
  "nbformat_minor": 0
}
