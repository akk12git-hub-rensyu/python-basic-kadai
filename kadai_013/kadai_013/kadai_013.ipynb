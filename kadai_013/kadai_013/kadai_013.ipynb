{
  "cells": [
    {
      "cell_type": "code",
      "execution_count": 12,
      "metadata": {
        "colab": {
          "base_uri": "https://localhost:8080/"
        },
        "id": "8f27jftquIv9",
        "outputId": "c781fc2e-1cb0-43f3-e794-3304a7a8cd52"
      },
      "outputs": [
        {
          "data": {
            "text/plain": [
              "1100.0"
            ]
          },
          "execution_count": 12,
          "metadata": {},
          "output_type": "execute_result"
        }
      ],
      "source": [
        "def purchase_total(price, tax):\n",
        "  tax_rate = price * (tax / 100)\n",
        "  return price + tax_rate\n",
        "\n",
        "purchase_total(1000, 10)"
      ]
    },
    {
      "cell_type": "markdown",
      "metadata": {
        "id": "pqhys4dlFpB0"
      },
      "source": []
    }
  ],
  "metadata": {
    "colab": {
      "provenance": []
    },
    "kernelspec": {
      "display_name": "Python 3",
      "name": "python3"
    },
    "language_info": {
      "name": "python"
    }
  },
  "nbformat": 4,
  "nbformat_minor": 0
}
