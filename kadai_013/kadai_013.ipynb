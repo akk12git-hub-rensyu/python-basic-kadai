{
  "cells": [
    {
      "cell_type": "code",
      "execution_count": 8,
      "metadata": {
        "colab": {
          "base_uri": "https://localhost:8080/"
        },
        "id": "8f27jftquIv9",
        "outputId": "2b02bb89-14d5-4056-81d8-7d59dbd06628"
      },
      "outputs": [
        {
          "name": "stdout",
          "output_type": "stream",
          "text": [
            "1010円\n"
          ]
        }
      ],
      "source": [
        "def purchase_total(price, tax):\n",
        "  tax_rate = price * (tax / 100)\n",
        "  total = price + tax\n",
        "  print(f\"{total}円\")\n",
        "purchase_total(1000, 10)"
      ]
    },
    {
      "cell_type": "markdown",
      "metadata": {
        "id": "pqhys4dlFpB0"
      },
      "source": []
    }
  ],
  "metadata": {
    "colab": {
      "provenance": []
    },
    "kernelspec": {
      "display_name": "Python 3",
      "name": "python3"
    },
    "language_info": {
      "name": "python"
    }
  },
  "nbformat": 4,
  "nbformat_minor": 0
}
