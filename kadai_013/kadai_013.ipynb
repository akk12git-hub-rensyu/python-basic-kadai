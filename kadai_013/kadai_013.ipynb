{
  "cells": [
    {
      "cell_type": "code",
      "execution_count": 9,
      "metadata": {
        "colab": {
          "base_uri": "https://localhost:8080/"
        },
        "id": "8f27jftquIv9",
        "outputId": "3438723b-c44c-4f42-f651-589a188e3c87"
      },
      "outputs": [
        {
          "name": "stdout",
          "output_type": "stream",
          "text": [
            "1100.0円\n"
          ]
        }
      ],
      "source": [
        "def purchase_total(price, tax):\n",
        "  tax_rate = price * (tax / 100)\n",
        "  total = price + tax_rate\n",
        "  print(f\"{total}円\")\n",
        "purchase_total(1000, 10)"
      ]
    },
    {
      "cell_type": "markdown",
      "metadata": {
        "id": "pqhys4dlFpB0"
      },
      "source": []
    }
  ],
  "metadata": {
    "colab": {
      "provenance": []
    },
    "kernelspec": {
      "display_name": "Python 3",
      "name": "python3"
    },
    "language_info": {
      "name": "python"
    }
  },
  "nbformat": 4,
  "nbformat_minor": 0
}
